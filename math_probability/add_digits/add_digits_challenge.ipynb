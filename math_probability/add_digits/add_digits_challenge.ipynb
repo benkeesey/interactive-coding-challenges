{
 "cells": [
  {
   "cell_type": "markdown",
   "metadata": {},
   "source": [
    "This notebook was prepared by [Donne Martin](https://github.com/donnemartin). Source and license info is on [GitHub](https://github.com/donnemartin/interactive-coding-challenges)."
   ]
  },
  {
   "cell_type": "markdown",
   "metadata": {},
   "source": [
    "# Challenge Notebook"
   ]
  },
  {
   "cell_type": "markdown",
   "metadata": {},
   "source": [
    "## Problem: Given an int, repeatedly add its digits until the result is one digit.\n",
    "\n",
    "* [Constraints](#Constraints)\n",
    "* [Test Cases](#Test-Cases)\n",
    "* [Algorithm](#Algorithm)\n",
    "* [Code](#Code)\n",
    "* [Unit Test](#Unit-Test)\n",
    "* [Solution Notebook](#Solution-Notebook)"
   ]
  },
  {
   "cell_type": "markdown",
   "metadata": {},
   "source": [
    "## Constraints\n",
    "\n",
    "* Can we assume num is not negative?\n",
    "    * Yes\n",
    "* Can we assume the inputs are valid?\n",
    "    * No\n",
    "* Can we assume this fits memory?\n",
    "    * Yes"
   ]
  },
  {
   "cell_type": "markdown",
   "metadata": {},
   "source": [
    "## Test Cases\n",
    "\n",
    "<pre>\n",
    "* None input -> TypeError\n",
    "* negative input -> ValueError\n",
    "* 9 -> 9\n",
    "* 138 -> 3\n",
    "* 65536 -> 7\n",
    "</pre>"
   ]
  },
  {
   "cell_type": "markdown",
   "metadata": {},
   "source": [
    "## Algorithm\n",
    "\n",
    "Refer to the [Solution Notebook]().  If you are stuck and need a hint, the solution notebook's algorithm discussion might be a good place to start."
   ]
  },
  {
   "cell_type": "markdown",
   "metadata": {},
   "source": [
    "## Code"
   ]
  },
  {
   "cell_type": "code",
   "execution_count": 17,
   "metadata": {},
   "outputs": [],
   "source": [
    "def sum_recursion(num):\n",
    "    if num in [0, 1]:\n",
    "        return num\n",
    "    else:\n",
    "        return num + sum_recursion(num-1)"
   ]
  },
  {
   "cell_type": "code",
   "execution_count": 26,
   "metadata": {},
   "outputs": [],
   "source": [
    "def fact_recursion(num):\n",
    "    assert num > 0 and num == int(num), 'factorial is defined only for positive integers'\n",
    "    if num in [0, 1]:\n",
    "        return 1\n",
    "    else:\n",
    "        return num * fact_recursion(num-1)"
   ]
  },
  {
   "cell_type": "code",
   "execution_count": 33,
   "metadata": {},
   "outputs": [],
   "source": [
    "def fib_recursion(num):\n",
    "    assert num >= 0 and num == int(num), 'num needs to be a positive integers to calculate Fibonacci number'\n",
    "    if num in [0, 1]:\n",
    "        return num\n",
    "    else:\n",
    "        return fib_recursion(num-1) + fib_recursion(num-2)"
   ]
  },
  {
   "cell_type": "code",
   "execution_count": 62,
   "metadata": {},
   "outputs": [],
   "source": [
    "def list_recursion(num_list):\n",
    "    if len(num_list) == 0:\n",
    "        return 0\n",
    "    elif len(num_list) == 1:\n",
    "        return num_list[0]\n",
    "    else:\n",
    "        print(num_list)\n",
    "        return list_recursion(num_list[:len(num_list)-1]) * num_list[-1]"
   ]
  },
  {
   "cell_type": "code",
   "execution_count": 77,
   "metadata": {},
   "outputs": [],
   "source": [
    "def isPalindrome(strng):\n",
    "    if len(strng) == 0:\n",
    "        return True\n",
    "    if strng[0] != strng[len(strng)-1]:\n",
    "        return False\n",
    "    return isPalindrome(strng[1:-1])"
   ]
  },
  {
   "cell_type": "code",
   "execution_count": 78,
   "metadata": {},
   "outputs": [
    {
     "data": {
      "text/plain": [
       "True"
      ]
     },
     "execution_count": 78,
     "metadata": {},
     "output_type": "execute_result"
    }
   ],
   "source": [
    "isPalindrome('madam')"
   ]
  },
  {
   "cell_type": "code",
   "execution_count": 14,
   "metadata": {},
   "outputs": [],
   "source": [
    "class Solution(object):\n",
    "\n",
    "    def add_digits(self, val):\n",
    "        if val == None:\n",
    "            raise TypeError(\"Exception, None is not a valid number\")\n",
    "        elif val < 0:\n",
    "            raise ValueError(\"Exception, number needs to be a positive int\")\n",
    "        current_val = val\n",
    "        while len(str(current_val)) != 1:\n",
    "            digit_sum = 0\n",
    "            for digit in str(current_val):\n",
    "                digit_sum += int(digit)\n",
    "            current_val = digit_sum\n",
    "        \n",
    "        \n",
    "        return current_val\n",
    "            \n",
    "        \n",
    "    def add_digits2(self, num):\n",
    "        if num is None:\n",
    "            raise TypeError('num cannot be None')\n",
    "        if num < 0:\n",
    "            raise ValueError('num cannot be negative')\n",
    "        digits = []\n",
    "        while num != 0:\n",
    "            digits.append(num % 10)\n",
    "            num //= 10\n",
    "        digits_sum = sum(digits)\n",
    "        if digits_sum >= 10:\n",
    "            return self.add_digits2(digits_sum)\n",
    "        else:\n",
    "            return digits_sum"
   ]
  },
  {
   "cell_type": "code",
   "execution_count": 15,
   "metadata": {},
   "outputs": [
    {
     "data": {
      "text/plain": [
       "2"
      ]
     },
     "execution_count": 15,
     "metadata": {},
     "output_type": "execute_result"
    }
   ],
   "source": [
    "obj = Solution()\n",
    "obj.add_digits(12314)"
   ]
  },
  {
   "cell_type": "code",
   "execution_count": 16,
   "metadata": {},
   "outputs": [
    {
     "data": {
      "text/plain": [
       "2"
      ]
     },
     "execution_count": 16,
     "metadata": {},
     "output_type": "execute_result"
    }
   ],
   "source": [
    "obj = Solution()\n",
    "obj.add_digits2(12314)"
   ]
  },
  {
   "cell_type": "markdown",
   "metadata": {},
   "source": [
    "## Unit Test"
   ]
  },
  {
   "cell_type": "markdown",
   "metadata": {},
   "source": [
    "**The following unit test is expected to fail until you solve the challenge.**"
   ]
  },
  {
   "cell_type": "code",
   "execution_count": 13,
   "metadata": {},
   "outputs": [
    {
     "name": "stdout",
     "output_type": "stream",
     "text": [
      "Success: test_add_digits\n"
     ]
    }
   ],
   "source": [
    "# %load test_add_digits.py\n",
    "import unittest\n",
    "\n",
    "\n",
    "class TestAddDigits(unittest.TestCase):\n",
    "\n",
    "    def test_add_digits(self, func):\n",
    "        self.assertRaises(TypeError, func, None)\n",
    "        self.assertRaises(ValueError, func, -1)\n",
    "        self.assertEqual(func(0), 0)\n",
    "        self.assertEqual(func(9), 9)\n",
    "        self.assertEqual(func(138), 3)\n",
    "        self.assertEqual(func(65536), 7) \n",
    "        print('Success: test_add_digits')\n",
    "\n",
    "\n",
    "def main():\n",
    "    test = TestAddDigits()\n",
    "    solution = Solution()\n",
    "    test.test_add_digits(solution.add_digits)\n",
    "    try:\n",
    "        test.test_add_digits(solution.add_digits_optimized)\n",
    "    except AttributeError:\n",
    "        # Alternate solutions are only defined\n",
    "        # in the solutions file\n",
    "        pass\n",
    "\n",
    "\n",
    "if __name__ == '__main__':\n",
    "    main()"
   ]
  },
  {
   "cell_type": "markdown",
   "metadata": {},
   "source": [
    "## Solution Notebook\n",
    "\n",
    "Review the [Solution Notebook]() for a discussion on algorithms and code solutions."
   ]
  }
 ],
 "metadata": {
  "kernelspec": {
   "display_name": "Python 3 (ipykernel)",
   "language": "python",
   "name": "python3"
  },
  "language_info": {
   "codemirror_mode": {
    "name": "ipython",
    "version": 3
   },
   "file_extension": ".py",
   "mimetype": "text/x-python",
   "name": "python",
   "nbconvert_exporter": "python",
   "pygments_lexer": "ipython3",
   "version": "3.9.7"
  }
 },
 "nbformat": 4,
 "nbformat_minor": 1
}
